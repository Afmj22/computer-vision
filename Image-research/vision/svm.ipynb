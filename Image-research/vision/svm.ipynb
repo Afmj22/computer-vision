{
 "cells": [
  {
   "cell_type": "code",
   "execution_count": 1,
   "metadata": {},
   "outputs": [],
   "source": [
    "import pandas as pd\n",
    "import numpy as np\n",
    "from sklearn.svm import SVC\n",
    "from sklearn.preprocessing import LabelEncoder\n",
    "from sklearn.preprocessing import MinMaxScaler\n",
    "from sklearn.model_selection import train_test_split\n",
    "from sklearn.metrics import confusion_matrix "
   ]
  },
  {
   "cell_type": "code",
   "execution_count": 2,
   "metadata": {},
   "outputs": [],
   "source": [
    "def RunSVM(train_dataset_path, test_size):\n",
    "    train_df = pd.read_csv(train_dataset_path)\n",
    "\n",
    "    le = LabelEncoder()\n",
    "    train_df['label'] = le.fit_transform(train_df['label'])\n",
    "\n",
    "    y = np.array(train_df['label'], dtype=np.float32)\n",
    "    X = np.array(train_df.drop('label',axis=1), dtype=np.float32)\n",
    "\n",
    "    X_train, X_test, y_train, y_test = train_test_split(X, y, test_size=test_size, random_state=42)\n",
    "\n",
    "    print(\"data shapes: \", train_dataset_path)\n",
    "    print(\"original X\", X.shape)\n",
    "    print(\"original y\", y.shape)\n",
    "    print(\"X_train\", X_train.shape)\n",
    "    print(\"X_test\", X_test.shape)\n",
    "    print(\"y_train\", y_train.shape)\n",
    "    print(\"y_test\", y_test.shape)\n",
    "\n",
    "    svm_model_linear = SVC(kernel = 'linear', C = 1).fit(X_train, y_train)\n",
    "    svm_predictions = svm_model_linear.predict(X_test)\n",
    "    # model accuracy for X_test \n",
    "    accuracy = svm_model_linear.score(X_test, y_test) \n",
    "    cm = confusion_matrix(y_test, svm_predictions) \n",
    "    print(\"====================================\")\n",
    "    print(\"Accuracy\",accuracy)\n",
    "    print(\"confusion_matrix\")\n",
    "    print(cm)\n",
    "\n",
    "    # Find the indexes of failing predictions\n",
    "    #failing_indexes = np.where(svm_predictions != y_test)[0]\n",
    "    # Get the failing rows from X_test\n",
    "    #failing_rows = X_test[failing_indexes]\n",
    "    # Print the failing rows\n",
    "    #print(\"failing_rows:\")\n",
    "    #print(failing_rows)\n"
   ]
  },
  {
   "cell_type": "code",
   "execution_count": 8,
   "metadata": {},
   "outputs": [
    {
     "name": "stdout",
     "output_type": "stream",
     "text": [
      "data shapes:  D:/pythonProject/Image-research/vision/colorBased-40_data.csv\n",
      "original X (40, 24)\n",
      "original y (40,)\n",
      "X_train (30, 24)\n",
      "X_test (10, 24)\n",
      "y_train (30,)\n",
      "y_test (10,)\n",
      "====================================\n",
      "Accuracy 1.0\n",
      "confusion_matrix\n",
      "[[6 0]\n",
      " [0 4]]\n",
      "===============================================================================\n",
      "===============================================================================\n",
      "data shapes:  D:/pythonProject/Image-research/vision/colorBased-50_data.csv\n",
      "original X (50, 24)\n",
      "original y (50,)\n",
      "X_train (37, 24)\n",
      "X_test (13, 24)\n",
      "y_train (37,)\n",
      "y_test (13,)\n",
      "====================================\n",
      "Accuracy 0.9230769230769231\n",
      "confusion_matrix\n",
      "[[7 0]\n",
      " [1 5]]\n"
     ]
    }
   ],
   "source": [
    "train_dataset_path = \"D:/pythonProject/Image-research/vision/colorBased-40_data.csv\"\n",
    "test_size = 0.25\n",
    "RunSVM(train_dataset_path, test_size)\n",
    "print(\"===============================================================================\")\n",
    "print(\"===============================================================================\")\n",
    "train_dataset_path = \"D:/pythonProject/Image-research/vision/colorBased-50_data.csv\"\n",
    "test_size = 0.25\n",
    "RunSVM(train_dataset_path, test_size)"
   ]
  },
  {
   "cell_type": "code",
   "execution_count": 11,
   "metadata": {},
   "outputs": [
    {
     "name": "stdout",
     "output_type": "stream",
     "text": [
      "data shapes:  D:/pythonProject/Image-research/vision/colorBased-b-50_data.csv\n",
      "original X (50, 24)\n",
      "original y (50,)\n",
      "X_train (37, 24)\n",
      "X_test (13, 24)\n",
      "y_train (37,)\n",
      "y_test (13,)\n",
      "====================================\n",
      "Accuracy 0.8461538461538461\n",
      "confusion_matrix\n",
      "[[6 1]\n",
      " [1 5]]\n"
     ]
    }
   ],
   "source": [
    "train_dataset_path = \"D:/pythonProject/Image-research/vision/colorBased-b-50_data.csv\"\n",
    "test_size = 0.25\n",
    "RunSVM(train_dataset_path, test_size)"
   ]
  },
  {
   "cell_type": "code",
   "execution_count": 12,
   "metadata": {},
   "outputs": [
    {
     "name": "stdout",
     "output_type": "stream",
     "text": [
      "data shapes:  D:/pythonProject/Image-research/vision/colorBased-mixed_data.csv\n",
      "original X (100, 24)\n",
      "original y (100,)\n",
      "X_train (75, 24)\n",
      "X_test (25, 24)\n",
      "y_train (75,)\n",
      "y_test (25,)\n",
      "====================================\n",
      "Accuracy 0.8\n",
      "confusion_matrix\n",
      "[[5 1 1 0]\n",
      " [0 4 0 3]\n",
      " [0 0 7 0]\n",
      " [0 0 0 4]]\n"
     ]
    }
   ],
   "source": [
    "train_dataset_path = \"D:/pythonProject/Image-research/vision/colorBased-mixed_data.csv\"\n",
    "test_size = 0.25\n",
    "RunSVM(train_dataset_path, test_size)"
   ]
  },
  {
   "cell_type": "code",
   "execution_count": null,
   "metadata": {},
   "outputs": [],
   "source": []
  },
  {
   "cell_type": "code",
   "execution_count": null,
   "metadata": {},
   "outputs": [],
   "source": []
  },
  {
   "cell_type": "code",
   "execution_count": null,
   "metadata": {},
   "outputs": [],
   "source": []
  },
  {
   "cell_type": "code",
   "execution_count": null,
   "metadata": {},
   "outputs": [],
   "source": []
  },
  {
   "cell_type": "code",
   "execution_count": null,
   "metadata": {},
   "outputs": [],
   "source": []
  },
  {
   "cell_type": "code",
   "execution_count": null,
   "metadata": {},
   "outputs": [],
   "source": []
  },
  {
   "cell_type": "code",
   "execution_count": null,
   "metadata": {},
   "outputs": [],
   "source": []
  },
  {
   "cell_type": "code",
   "execution_count": 79,
   "metadata": {},
   "outputs": [
    {
     "name": "stdout",
     "output_type": "stream",
     "text": [
      "data shapes:\n",
      "original X (40, 24)\n",
      "original y (40,)\n",
      "X_train (30, 24)\n",
      "X_test (10, 24)\n",
      "y_train (30,)\n",
      "y_test (10,)\n",
      "====================================\n",
      "Accuracy 0.9\n",
      "confusion_matrix\n",
      "[[6 0]\n",
      " [1 3]]\n"
     ]
    }
   ],
   "source": [
    "train_dataset_path = \"D:/pythonProject/Image-research/vision/train-40_data.csv\"\n",
    "test_size = 0.25\n",
    "RunSVM(train_dataset_path, test_size)"
   ]
  },
  {
   "cell_type": "code",
   "execution_count": 80,
   "metadata": {},
   "outputs": [
    {
     "name": "stdout",
     "output_type": "stream",
     "text": [
      "data shapes:\n",
      "original X (50, 24)\n",
      "original y (50,)\n",
      "X_train (37, 24)\n",
      "X_test (13, 24)\n",
      "y_train (37,)\n",
      "y_test (13,)\n",
      "====================================\n",
      "Accuracy 1.0\n",
      "confusion_matrix\n",
      "[[7 0]\n",
      " [0 6]]\n"
     ]
    }
   ],
   "source": [
    "train_dataset_path = \"D:/pythonProject/Image-research/vision/train-50_data.csv\"\n",
    "test_size = 0.25\n",
    "RunSVM(train_dataset_path, test_size)"
   ]
  },
  {
   "cell_type": "code",
   "execution_count": 61,
   "metadata": {},
   "outputs": [
    {
     "name": "stdout",
     "output_type": "stream",
     "text": [
      "data shapes:\n",
      "original X (40, 24)\n",
      "original y (40,)\n",
      "X_train (30, 24)\n",
      "X_test (10, 24)\n",
      "y_train (30,)\n",
      "y_test (10,)\n",
      "====================================\n",
      "Accuracy 0.8\n",
      "confusion_matrix\n",
      "[[6 2]\n",
      " [0 2]]\n"
     ]
    }
   ],
   "source": [
    "train_dataset_path = \"D:/pythonProject/Image-research/vision/train-50b_data.csv\"\n",
    "test_size = 0.25\n",
    "RunSVM(train_dataset_path, test_size)"
   ]
  },
  {
   "cell_type": "code",
   "execution_count": 78,
   "metadata": {},
   "outputs": [
    {
     "name": "stdout",
     "output_type": "stream",
     "text": [
      "data shapes:\n",
      "original X (50, 24)\n",
      "original y (50,)\n",
      "X_train (37, 24)\n",
      "X_test (13, 24)\n",
      "y_train (37,)\n",
      "y_test (13,)\n",
      "====================================\n",
      "Accuracy 0.5384615384615384\n",
      "confusion_matrix\n",
      "[[2 5]\n",
      " [1 5]]\n"
     ]
    }
   ],
   "source": [
    "train_dataset_path = \"D:/pythonProject/Image-research/vision/trainColor-50_data.csv\"\n",
    "test_size = 0.25\n",
    "RunSVM(train_dataset_path, test_size)"
   ]
  },
  {
   "cell_type": "code",
   "execution_count": 98,
   "metadata": {},
   "outputs": [
    {
     "name": "stdout",
     "output_type": "stream",
     "text": [
      "data shapes:\n",
      "original X (50, 24)\n",
      "original y (50,)\n",
      "X_train (37, 24)\n",
      "X_test (13, 24)\n",
      "y_train (37,)\n",
      "y_test (13,)\n",
      "====================================\n",
      "Accuracy 0.9230769230769231\n",
      "confusion_matrix\n",
      "[[7 0]\n",
      " [1 5]]\n"
     ]
    }
   ],
   "source": [
    "train_dataset_path = \"D:/pythonProject/Image-research/vision/train-b-50_data.csv\"\n",
    "test_size = 0.25\n",
    "RunSVM(train_dataset_path, test_size)"
   ]
  },
  {
   "cell_type": "code",
   "execution_count": 100,
   "metadata": {},
   "outputs": [
    {
     "name": "stdout",
     "output_type": "stream",
     "text": [
      "data shapes:\n",
      "original X (100, 24)\n",
      "original y (100,)\n",
      "X_train (75, 24)\n",
      "X_test (25, 24)\n",
      "y_train (75,)\n",
      "y_test (25,)\n",
      "====================================\n",
      "Accuracy 0.6\n",
      "confusion_matrix\n",
      "[[6 0 1 0]\n",
      " [0 4 0 3]\n",
      " [3 1 3 0]\n",
      " [0 2 0 2]]\n"
     ]
    }
   ],
   "source": [
    "train_dataset_path = \"D:/pythonProject/Image-research/vision/train-mixed_data.csv\"\n",
    "test_size = 0.25\n",
    "RunSVM(train_dataset_path, test_size)"
   ]
  },
  {
   "cell_type": "code",
   "execution_count": null,
   "metadata": {},
   "outputs": [],
   "source": [
    "#observaciones\n",
    "#es mejor tener una cantidad de fotos menor, pero de buena calidad donde se pueda apreciar la enfermedad\n",
    "#el algoritmo tiene problemas con plantas que se ven muy similares a la hora de la clasificacion\n",
    "#el algoritmo no tiene en cuenta la figura de la planta entonces multiples clases pueden parecer similares"
   ]
  }
 ],
 "metadata": {
  "kernelspec": {
   "display_name": "vision",
   "language": "python",
   "name": "python3"
  },
  "language_info": {
   "codemirror_mode": {
    "name": "ipython",
    "version": 3
   },
   "file_extension": ".py",
   "mimetype": "text/x-python",
   "name": "python",
   "nbconvert_exporter": "python",
   "pygments_lexer": "ipython3",
   "version": "3.10.14"
  }
 },
 "nbformat": 4,
 "nbformat_minor": 2
}
